{
  "nbformat": 4,
  "nbformat_minor": 0,
  "metadata": {
    "colab": {
      "provenance": [],
      "toc_visible": true,
      "authorship_tag": "ABX9TyPydu7v57OI8cW1wO/q31Z7",
      "include_colab_link": true
    },
    "kernelspec": {
      "name": "python3",
      "display_name": "Python 3"
    },
    "language_info": {
      "name": "python"
    }
  },
  "cells": [
    {
      "cell_type": "markdown",
      "metadata": {
        "id": "view-in-github",
        "colab_type": "text"
      },
      "source": [
        "<a href=\"https://colab.research.google.com/github/Tanchishka/Project_00/blob/main/_task_1_4_py().ipynb\" target=\"_parent\"><img src=\"https://colab.research.google.com/assets/colab-badge.svg\" alt=\"Open In Colab\"/></a>"
      ]
    },
    {
      "cell_type": "code",
      "source": [
        "# task_1.4.py()\n",
        "titles = {\n",
        "    'Кроссовки тип 3 (Adidas)': '100000110',\n",
        "    'Мячик тип 2 (Adidas)': '100000146',\n",
        "    'Кепка тип 1 (Adidas)': '100000149',\n",
        "    'Ремень тип 2 (Nike)': '100000194',\n",
        "    'Футболка тип 1 (Adidas)': '100000224',\n",
        "    'Шапка тип 5 (Puma)': '100000280',\n",
        "}\n",
        "\n",
        "\n",
        "store = {\n",
        "    '100000110': [{'quantity': 31, 'price': 1637}],\n",
        "    '100000146': [ {'quantity': 4, 'price': 45}, {'quantity': 10, 'price': 48}],\n",
        "    '100000149': [ {'quantity': 28, 'price': 279}, {'quantity': 32, 'price': 291}],\n",
        "    '100000194': [{'quantity': 8, 'price': 220}, {'quantity': 1, 'price': 170}],\n",
        "    '100000224': [{'quantity': 61, 'price': 438}, {'quantity': 23, 'price': 302},  {'quantity': 50, 'price': 412}],\n",
        "    '100000280': [{'quantity': 26, 'price': 175}, ]\n",
        "}\n",
        "\n",
        "for name_product, code_product in titles.items():\n",
        "    total_quantity = 0\n",
        "    total_price = 0\n",
        "    for sports_equipment in store[code_product]:\n",
        "        all_quantity = 0\n",
        "        all_price = 0\n",
        "        all_quantity += sports_equipment['quantity']\n",
        "        all_price += sports_equipment['price']\n",
        "        total_price += all_quantity * all_price\n",
        "        total_quantity += all_quantity\n",
        "    print('{0} - {1} шт, стоимость  {2} руб'.format(name_product, total_quantity, total_price))\n",
        "\n",
        "\n",
        "\n",
        "\n",
        "\n",
        "\n",
        "\n",
        "\n",
        "\n"
      ],
      "metadata": {
        "id": "Qxnv4uuKb3g-",
        "colab": {
          "base_uri": "https://localhost:8080/"
        },
        "outputId": "1300f605-4318-44e2-f834-1e5c160293ea"
      },
      "execution_count": 40,
      "outputs": [
        {
          "output_type": "stream",
          "name": "stdout",
          "text": [
            "Кроссовки тип 3 (Adidas) - 31 шт, стоимость  50747 руб\n",
            "Мячик тип 2 (Adidas) - 14 шт, стоимость  660 руб\n",
            "Кепка тип 1 (Adidas) - 60 шт, стоимость  17124 руб\n",
            "Ремень тип 2 (Nike) - 9 шт, стоимость  1930 руб\n",
            "Футболка тип 1 (Adidas) - 134 шт, стоимость  54264 руб\n",
            "Шапка тип 5 (Puma) - 26 шт, стоимость  4550 руб\n"
          ]
        }
      ]
    }
  ]
}